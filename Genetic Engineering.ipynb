{
 "cells": [
  {
   "cell_type": "markdown",
   "metadata": {},
   "source": [
    "# Genetic Engineering - Findind lab of origin for various plasmids using Sequential Neural Network tuned via Bayesian Optimization.\n",
    "\n"
   ]
  },
  {
   "cell_type": "markdown",
   "metadata": {},
   "source": [
    "Intro- notes <br>\n",
    "Driven Data Competition\n",
    "<br>\n",
    "<br>\n",
    "<br>\n",
    "Usefullness -> allows better controle over who is doing what\n",
    "\n",
    "Topo function pad\n",
    "Topo Seq NN\n",
    "Topo Bayesian opt (link to giuthub)\n",
    "\n",
    "plot model ?\n",
    "\n",
    "mention voigt lab (without link)\n",
    "\n"
   ]
  },
  {
   "cell_type": "code",
   "execution_count": 3,
   "metadata": {},
   "outputs": [],
   "source": [
    "import numpy as np\n",
    "import pandas as pd\n",
    "import matplotlib.pyplot as plt\n",
    "from matplotlib.pyplot import figure\n",
    "import time\n",
    "from sklearn.model_selection import train_test_split\n",
    "#import \n",
    "df=pd.read_csv(r\"C:\\Users\\Utilisateur\\Desktop\\Challenge\\genetic_engineering\\train_values.csv\",index_col=0)\n",
    "Labels=pd.read_csv(r\"C:\\Users\\Utilisateur\\Desktop\\Challenge\\genetic_engineering\\train_labels.csv\",index_col=0)"
   ]
  },
  {
   "cell_type": "code",
   "execution_count": 4,
   "metadata": {},
   "outputs": [
    {
     "data": {
      "image/png": "[encoded data removed]",
      "text/plain": [
       "<Figure size 720x576 with 1 Axes>"
      ]
     },
     "metadata": {
      "needs_background": "light"
     },
     "output_type": "display_data"
    }
   ],
   "source": [
    "\"\"\"E D A \"\"\"\n",
    "#sequences\n",
    "Seq_length=pd.DataFrame(df.sequence.apply(len))\n",
    "Seq_length.hist(bins=100,figsize=(10,8))\n",
    "\n",
    "#lab\n",
    "Lab_id=pd.DataFrame(Labels.idxmax(axis=1),columns=['lab_id'])\n",
    "plasmid_per_lab=pd.DataFrame(Lab_id['lab_id'].value_counts().sort_values(ascending=False))\n",
    "plasmid_per_lab.columns=['plasmid_per_lab']\n",
    "plasmid_per_lab['Percentage']=plasmid_per_lab/df.shape[0]"
   ]
  },
  {
   "cell_type": "code",
   "execution_count": 6,
   "metadata": {},
   "outputs": [],
   "source": [
    "#split train/test\n",
    "x_train, x_test, y_train, y_test = train_test_split(df, Labels, test_size=0.2, random_state=1)\n",
    "#split train/val\n",
    "x_train, x_val, y_train, y_val = train_test_split(x_train, y_train, test_size=0.25, random_state=1) # 0.25 x 0.8 = 0.2    "
   ]
  },
  {
   "cell_type": "markdown",
   "metadata": {},
   "source": [
    "# Defining functions\n",
    "\n",
    "### Padding function\n",
    "\n",
    "    As the input of the neural network ought to be vectors of the same size and since the plasmid sequences range from .... to ..., median value : , we have to pas the sequences, cad, define a threshold,shorten the sequences longer than this threshold and extend  with random nucleoids the shorter ones. That is what **pad_dna** is doing\n",
    "\n",
    "\n",
    "### One hot encoding\n",
    "\n",
    "    The base pare cannot be fed as raw inputs to the network, we therefore need to transform them into 1hot vectors, following the arbitrary convention : 'A':[1,0,0,0],'T':[0,1,0,0],'G':[0,0,1,0],'C':[0,0,0,1], 'N':[0,0,0,0]} where N is ????"
   ]
  },
  {
   "cell_type": "code",
   "execution_count": 7,
   "metadata": {},
   "outputs": [],
   "source": [
    "def pad_dna(seqs,maxlen):\n",
    "    padded_seqs = [''] * len(seqs)\n",
    "    for i in seqs:\n",
    "        if len(i) > maxlen:\n",
    "            i = i[:maxlen]\n",
    "            maxlen = len(i)\n",
    "    for j in range(len(seqs)):\n",
    "        if len(seqs[j]) > maxlen:\n",
    "            seq = seqs[j][0:maxlen]\n",
    "        else:\n",
    "            seq = seqs[j]\n",
    "        padded_seqs[j] = seq + \"N\" * (maxlen - len(seq))\n",
    "    return padded_seqs\n",
    "\n",
    "def convert_onehot2D(list_of_seqs):\n",
    "    one_hot = np.zeros((len(list_of_seqs),4,len(list_of_seqs[0])))\n",
    "    nt_dict = {'A':[1,0,0,0],'T':[0,1,0,0],'G':[0,0,1,0],'C':[0,0,0,1], 'N':[0,0,0,0]}\n",
    "    count = 0\n",
    "    for seq in list_of_seqs:\n",
    "        if len(seq) > 1:\n",
    "            for letter in range(len(seq)):\n",
    "                for i in range(4):\n",
    "                    one_hot[count][i][letter] = (nt_dict[seq[letter]])[i]\n",
    "        count += 1\n",
    "    return one_hot\n",
    "\n",
    "\n",
    "#encoding sequences\n",
    "\n",
    "max_len=500\n",
    "X_train_padded=pad_dna(x_train.sequence,max_len)\n",
    "X_val_padded=pad_dna(x_val.sequence,max_len)\n",
    "X_test_padded=pad_dna(x_test.sequence,max_len)\n",
    "\n",
    "#steady variables\n",
    "X_train=np.transpose(convert_onehot2D(X_train_padded), axes=(0,2,1))\n",
    "X_val=np.transpose(convert_onehot2D(X_val_padded), axes=(0,2,1))\n",
    "X_test=np.transpose(convert_onehot2D(X_test_padded), axes=(0,2,1))\n",
    "\n",
    "Y_train=y_train\n",
    "Y_val=y_val\n",
    "Y_test=y_test\n"
   ]
  },
  {
   "cell_type": "markdown",
   "metadata": {},
   "source": [
    "# Bayesian optimization\n",
    "\n",
    "Package details on github [here](https://github.com/fmfn/BayesianOptimization)\n",
    "\n",
    "number of iterations\n",
    "parameters of iteration (number of neurones/ number of filter and length of filter.)\n",
    "monitoring (as target) : validation accuracy\n"
   ]
  },
  {
   "cell_type": "code",
   "execution_count": 11,
   "metadata": {},
   "outputs": [
    {
     "name": "stdout",
     "output_type": "stream",
     "text": [
      "|   iter    |  target   | filter... | filter... | num_de... |\n",
      "-------------------------------------------------------------\n",
      "4727/4727 [==============================] - 46s 10ms/step - loss: 5.5363 - top_k_categorical_accuracy: 0.3669 - val_loss: 4.8663 - val_top_k_categorical_accuracy: 0.4350\n",
      "| \u001b[0m 1       \u001b[0m | \u001b[0m 0.435   \u001b[0m | \u001b[0m 5.335   \u001b[0m | \u001b[0m 47.38   \u001b[0m | \u001b[0m 5.431   \u001b[0m |\n",
      "4727/4727 [==============================] - 71s 15ms/step - loss: 4.4017 - top_k_categorical_accuracy: 0.5280 - val_loss: 3.8178 - val_top_k_categorical_accuracy: 0.6148\n",
      "| \u001b[95m 2       \u001b[0m | \u001b[95m 0.6148  \u001b[0m | \u001b[95m 15.75   \u001b[0m | \u001b[95m 492.1   \u001b[0m | \u001b[95m 185.7   \u001b[0m |\n",
      "4727/4727 [==============================] - 198s 42ms/step - loss: 4.3757 - top_k_categorical_accuracy: 0.5354 - val_loss: 3.7899 - val_top_k_categorical_accuracy: 0.6322\n",
      "| \u001b[95m 3       \u001b[0m | \u001b[95m 0.6322  \u001b[0m | \u001b[95m 4.81    \u001b[0m | \u001b[95m 412.6   \u001b[0m | \u001b[95m 465.5   \u001b[0m |\n",
      "4727/4727 [==============================] - 143s 30ms/step - loss: 4.4219 - top_k_categorical_accuracy: 0.5268 - val_loss: 3.8115 - val_top_k_categorical_accuracy: 0.6215\n",
      "| \u001b[0m 4       \u001b[0m | \u001b[0m 0.6215  \u001b[0m | \u001b[0m 45.55   \u001b[0m | \u001b[0m 177.8   \u001b[0m | \u001b[0m 392.1   \u001b[0m |\n",
      "4727/4727 [==============================] - 130s 27ms/step - loss: 4.6166 - top_k_categorical_accuracy: 0.4956 - val_loss: 3.9064 - val_top_k_categorical_accuracy: 0.5881\n",
      "| \u001b[0m 5       \u001b[0m | \u001b[0m 0.5881  \u001b[0m | \u001b[0m 31.0    \u001b[0m | \u001b[0m 216.9   \u001b[0m | \u001b[0m 90.27   \u001b[0m |\n",
      "4727/4727 [==============================] - 168s 36ms/step - loss: 4.3875 - top_k_categorical_accuracy: 0.5335 - val_loss: 3.8066 - val_top_k_categorical_accuracy: 0.6223\n",
      "| \u001b[0m 6       \u001b[0m | \u001b[0m 0.6223  \u001b[0m | \u001b[0m 5.279   \u001b[0m | \u001b[0m 410.5   \u001b[0m | \u001b[0m 467.8   \u001b[0m |\n",
      "4727/4727 [==============================] - 126s 27ms/step - loss: 4.3409 - top_k_categorical_accuracy: 0.5381 - val_loss: 3.7285 - val_top_k_categorical_accuracy: 0.6309\n",
      "| \u001b[0m 7       \u001b[0m | \u001b[0m 0.6309  \u001b[0m | \u001b[0m 5.58    \u001b[0m | \u001b[0m 453.2   \u001b[0m | \u001b[0m 432.4   \u001b[0m |\n",
      "4727/4727 [==============================] - 180s 38ms/step - loss: 4.3790 - top_k_categorical_accuracy: 0.5340 - val_loss: 3.7833 - val_top_k_categorical_accuracy: 0.6271\n",
      "| \u001b[0m 8       \u001b[0m | \u001b[0m 0.6271  \u001b[0m | \u001b[0m 1.0     \u001b[0m | \u001b[0m 395.8   \u001b[0m | \u001b[0m 406.4   \u001b[0m |\n",
      "=============================================================\n",
      "{'target': 0.6321802735328674, 'params': {'filter_length': 4.809964199642451, 'filter_num': 412.6209157839004, 'num_dense_nodes': 465.48022810238274}}\n"
     ]
    }
   ],
   "source": [
    "\"\"\"                  B A Y E S I A N   -  O P T I M I Z A T I O N                \"\"\"\n",
    "import tensorflow as tf\n",
    "from keras.models import Sequential\n",
    "from keras.layers.core import Dense, Activation, Dropout, Flatten\n",
    "from keras.layers.convolutional import Convolution1D\n",
    "from keras.layers.convolutional import MaxPooling1D\n",
    "from keras.callbacks import EarlyStopping\n",
    "from keras.callbacks import ModelCheckpoint\n",
    "from keras.layers.normalization import BatchNormalization\n",
    "import time\n",
    "from keras.optimizers import SGD\n",
    "from keras.models import load_model \n",
    "\n",
    "from bayes_opt import BayesianOptimization\n",
    "\n",
    "#network parameters:\n",
    "dna_bp_length=X_train.shape[1]\n",
    "num_classes=Y_train.shape[1]\n",
    "min_batch_size = 8\n",
    "\n",
    "def neural_network_target(num_dense_nodes,filter_num,filter_length):\n",
    "    model = Sequential()\n",
    "    model.add(Convolution1D(filters=int(filter_num),\n",
    "                            kernel_size=int(filter_num),\n",
    "                            activation=\"relu\"))\n",
    "    model.add(MaxPooling1D(pool_size=int(max_len-filter_num+1)))\n",
    "    model.add(BatchNormalization())\n",
    "    model.add(Flatten())\n",
    "    model.add(Dense(units=num_dense_nodes))\n",
    "    model.add(Activation(\"relu\"))\n",
    "    model.add(BatchNormalization())\n",
    "    model.add(Dense(units=num_classes))\n",
    "    model.add(Activation(\"softmax\"))\n",
    "    model.compile(loss='categorical_crossentropy',\n",
    "                  optimizer='adam',\n",
    "                  metrics=[tf.keras.metrics.TopKCategoricalAccuracy(10)])\n",
    "    checkpointer = ModelCheckpoint(filepath=\"checkpoint.hdf5\", monitor=\"val_acc\", mode='auto', verbose=1, \\\n",
    "                  save_best_only=True)  \n",
    "    early_stopping = EarlyStopping(monitor='val_acc', min_delta=0, patience=10, mode='auto', verbose=0)\n",
    "    \n",
    "    epoch=1\n",
    "    history = model.fit(X_train, Y_train, batch_size = min_batch_size,\n",
    "                        validation_data=(X_val, Y_val),\n",
    "                        epochs=epoch, verbose=1)\n",
    "    \n",
    "    result=history.history['val_top_k_categorical_accuracy'][-1]\n",
    "\n",
    "    return result\n",
    "\n",
    "\n",
    "gp_params = {\"alpha\": 1e-5, \"n_restarts_optimizer\": 2}\n",
    "bo = BayesianOptimization(neural_network_target,\n",
    "                          {'num_dense_nodes': (4,512),\n",
    "                           'filter_num': (1,500),\n",
    "                           'filter_length': (1,48)})\n",
    "\n",
    "bo.maximize(n_iter=3, acq=\"ucb\", kappa=5, **gp_params)\n",
    "\n",
    "\n",
    "print(bo.max)\n"
   ]
  },
  {
   "cell_type": "markdown",
   "metadata": {},
   "source": [
    "# Sequential Neural Network\n",
    "\n",
    "info : \n",
    "use conv1D with ...parameters (extracted from bayesian optimization)\n",
    "batch normalization for ???\n",
    "Metrics (Top 10)-> tf.keras.metrics.TopKCategoricalAccuracy(10)\n"
   ]
  },
  {
   "cell_type": "code",
   "execution_count": null,
   "metadata": {},
   "outputs": [],
   "source": [
    "\"\"\"Neural Network\"\"\"\"\"\n",
    "\n",
    "#network parameters:\n",
    "dna_bp_length=X_train.shape[1]\n",
    "num_classes=Y_train.shape[1]\n",
    "# network hyperparameters\n",
    "filter_num = 130 \n",
    "filter_len = 46\n",
    "num_dense_nodes = 345 \n",
    "total_epoch = 100 \n",
    "min_batch_size = 8\n",
    "start = time.time()\n",
    "\n",
    "# model specification\n",
    "model = Sequential()\n",
    "model.add(Convolution1D(filters=filter_num,\n",
    "                        kernel_size=filter_len,\n",
    "                        activation=\"relu\"))\n",
    "model.add(MaxPooling1D(pool_size=max_len-filter_len+1))\n",
    "model.add(BatchNormalization())\n",
    "model.add(Flatten())\n",
    "model.add(Dense(units=num_dense_nodes))\n",
    "model.add(Activation(\"relu\"))\n",
    "model.add(BatchNormalization())\n",
    "model.add(Dense(units=num_classes))\n",
    "model.add(Activation(\"softmax\"))\n",
    "model.compile(loss='categorical_crossentropy',\n",
    "              optimizer='adam',\n",
    "              metrics=[tf.keras.metrics.TopKCategoricalAccuracy(10)])\n",
    "checkpointer = ModelCheckpoint(filepath=\"checkpoint.hdf5\", monitor=\"val_acc\", mode='auto', verbose=1, \\\n",
    "              save_best_only=True)  \n",
    "early_stopping = EarlyStopping(monitor='val_acc', min_delta=0, patience=10, mode='auto', verbose=1)\n",
    "\n",
    "epoch=10\n",
    "history = model.fit(X_train, Y_train, batch_size = min_batch_size,\n",
    "                    validation_data=(X_val, Y_val),\n",
    "                    epochs=epoch, verbose=1)\n",
    "\n",
    "print(model.summary())\n",
    "    \n",
    "    \n",
    "net=history    \n",
    "#plot\n",
    "loss=net.history['loss']\n",
    "acc=net.history['top_k_categorical_accuracy']\n",
    "val_loss=net.history['val_loss']\n",
    "val_acc=net.history['val_top_k_categorical_accuracy']\n",
    "\n",
    "plt.plot(loss,label='loss')\n",
    "plt.plot(acc,label='accuracy')\n",
    "plt.plot(val_loss,label='val_loss')\n",
    "plt.plot(val_acc,label='val_accuracy')\n",
    "plt.hlines(1,  0,epoch, colors='k', linestyles='--')\n",
    "plt.legend()\n",
    "plt.title('CNN')\n",
    "\n",
    "stop = time.time()\n",
    "\n",
    "print('computational time for nn :',stop-start,  'seconds')\n"
   ]
  },
  {
   "cell_type": "code",
   "execution_count": null,
   "metadata": {},
   "outputs": [],
   "source": []
  }
 ],
 "metadata": {
  "kernelspec": {
   "display_name": "Python 3",
   "language": "python",
   "name": "python3"
  },
  "language_info": {
   "codemirror_mode": {
    "name": "ipython",
    "version": 3
   },
   "file_extension": ".py",
   "mimetype": "text/x-python",
   "name": "python",
   "nbconvert_exporter": "python",
   "pygments_lexer": "ipython3",
   "version": "3.8.3"
  }
 },
 "nbformat": 4,
 "nbformat_minor": 4
}
